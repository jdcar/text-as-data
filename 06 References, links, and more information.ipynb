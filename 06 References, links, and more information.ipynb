{
 "cells": [
  {
   "cell_type": "markdown",
   "id": "3b5d829c",
   "metadata": {},
   "source": [
    "<img align=\"left\" width=\"200\" src=\"Picture1.png\">"
   ]
  },
  {
   "cell_type": "markdown",
   "id": "4721e03e",
   "metadata": {},
   "source": [
    "# More information"
   ]
  },
  {
   "cell_type": "markdown",
   "id": "6e9ffda3",
   "metadata": {},
   "source": [
    "<ul>\n",
    "<li>Anyone with a Northwestern ID can access self guided <a href=https://www.northwestern.edu/hr/well/development/online-learning/lynda.com.html>LinkedIn Learning</a> Python. There are also courses on R, another language that is good for text analysis.</li>\n",
    "<li><a href=\"http://labs.jstor.org/tapi-courses/\">Ithaka TAP institute</a> </li>\n",
    "<li><a href=\"https://constellate.org/tutorials\">Constellate website.</a> </li>\n",
    "<li><a href=\"https://www.python.org/\">Python official documentation</a></li>\n",
    "<li><a href=\"https://jupyter.org/\">Jupyter notebooks</a></li>\n",
    "<li><a href=\"https://spacy.io/\">spaCy</a></li>\n",
    "<li><a href=\"https://developer.twitter.com/\">Twitter developer website</a></li>\n",
    "<li><a href=\"https://twarc-project.readthedocs.io/en/latest/\">twarc</a></li>\n",
    "<li><a href=\"https://docs.python.org/3/library/json.html\">Python json</a></li>\n",
    "<li><a href=\"https://regex101.com/\">regex</a></li>\n",
    "<li><a href=\"https://pandas.pydata.org/\">Pandas</a></li>\n",
    "</ul>"
   ]
  },
  {
   "cell_type": "code",
   "execution_count": null,
   "id": "be0241a0",
   "metadata": {},
   "outputs": [],
   "source": []
  }
 ],
 "metadata": {
  "kernelspec": {
   "display_name": "Python 3 (ipykernel)",
   "language": "python",
   "name": "python3"
  },
  "language_info": {
   "codemirror_mode": {
    "name": "ipython",
    "version": 3
   },
   "file_extension": ".py",
   "mimetype": "text/x-python",
   "name": "python",
   "nbconvert_exporter": "python",
   "pygments_lexer": "ipython3",
   "version": "3.10.3"
  }
 },
 "nbformat": 4,
 "nbformat_minor": 5
}
