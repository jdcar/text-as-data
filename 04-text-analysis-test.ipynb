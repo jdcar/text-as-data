{
 "cells": [
  {
   "cell_type": "markdown",
   "id": "1d01296f-e833-4101-8734-2280142c0e4b",
   "metadata": {},
   "source": [
    "# 4. Let's try text analysis!"
   ]
  },
  {
   "cell_type": "markdown",
   "id": "1921ed78",
   "metadata": {},
   "source": [
    "There are so many things you can do with text analysis! Create visualizations, convert text to tables, or compare texts. In this notebook we are going to do all three."
   ]
  },
  {
   "cell_type": "markdown",
   "id": "cdda92c2-2741-4599-abcd-2a6f5dda5be9",
   "metadata": {},
   "source": [
    "## 1. We need to pick a dataset"
   ]
  },
  {
   "cell_type": "markdown",
   "id": "69ebf508-668a-4588-a589-6825cfea8509",
   "metadata": {},
   "source": [
    "How about music lyrics? There is an API called MusiXmatch that allows for non-commerical use of their API, which includes lyrics. This only allows for 30% of the lyrics, but we will use it anyway for practice. I was able to get access to this API with my .edu email address. There are a lot of APIs that will allow for education access."
   ]
  },
  {
   "cell_type": "markdown",
   "id": "5966ad7f-bae2-4bea-97b8-c7c93521db97",
   "metadata": {},
   "source": [
    "First we need to get the lyrics. I did this making an API call to MusiXmatch. Let's pick a band or musician and a song. Any suggestions?"
   ]
  },
  {
   "cell_type": "code",
   "execution_count": null,
   "id": "912afa48-3941-4df4-8951-0d21ae60dd98",
   "metadata": {},
   "outputs": [],
   "source": [
    "import Constants\n",
    "import json\n",
    "import re"
   ]
  },
  {
   "cell_type": "code",
   "execution_count": null,
   "id": "e618019d-3ea0-4b35-a047-bfa0b5377992",
   "metadata": {},
   "outputs": [],
   "source": [
    "from musixmatch import Musixmatch\n",
    "\n",
    "music_key=Constants.MUSIXMATCH_KEY\n",
    "\n",
    "musixmatch = Musixmatch(music_key)\n",
    "\n",
    "lyrics = musixmatch.matcher_lyrics_get('[SONG]', '[ARTIST]')\n",
    "lyrics = re.sub(r\"\\\\n\", \" \", json.dumps(lyrics[\"message\"][\"body\"][\"lyrics\"][\"lyrics_body\"]))\n",
    "lyrics = re.sub(r\"(.+)(\\.\\.\\..+)\", r\"\\1\", lyrics)\n",
    "\n",
    "print (lyrics)\n"
   ]
  },
  {
   "cell_type": "markdown",
   "id": "d63510ad-73f4-47c9-bfbc-1a6c0e8821a1",
   "metadata": {},
   "source": [
    "## 2. Convert the text to tokens"
   ]
  },
  {
   "cell_type": "markdown",
   "id": "e5336396-9f5a-468d-8ff6-41a1e5cef8ee",
   "metadata": {},
   "source": [
    "Great! Now we have the song lyrics as text named `lyrics`. What can we do with it now? Let's start by turning the lyrics into tokens using spaCy."
   ]
  },
  {
   "cell_type": "code",
   "execution_count": null,
   "id": "74de3135-af94-4b93-98fe-baff3da806f8",
   "metadata": {},
   "outputs": [],
   "source": [
    "import spacy\n",
    "nlp = spacy.load('en_core_web_sm')\n",
    "doc = nlp(lyrics)\n",
    "print(doc)\n",
    "print (len(lyrics))\n",
    "print (len(doc))"
   ]
  },
  {
   "cell_type": "markdown",
   "id": "bf6a2e17-9831-41a3-a94a-32dcb3c6b023",
   "metadata": {},
   "source": [
    "The lyrics look the same, but we can see from the length difference between `lyrics` and `doc`, `doc` contains tokens. "
   ]
  },
  {
   "cell_type": "markdown",
   "id": "38b01089-5461-4dcd-a378-88e53b258b84",
   "metadata": {},
   "source": [
    "## 3. Create visualizations"
   ]
  },
  {
   "cell_type": "markdown",
   "id": "37b6dc09-3fe2-4b0c-a105-1081fd27c0d9",
   "metadata": {},
   "source": [
    "One way to do text analysis is doing visualization of the parts of speech. SpaCy has a built in dependency visualizer:"
   ]
  },
  {
   "cell_type": "code",
   "execution_count": null,
   "id": "18eb2a47-1e09-4e2c-839a-cf96fdbf5fe8",
   "metadata": {},
   "outputs": [],
   "source": [
    "from spacy import displacy"
   ]
  },
  {
   "cell_type": "code",
   "execution_count": null,
   "id": "e13c3c2d-ae0c-4cc0-af9e-0c78e122ca30",
   "metadata": {},
   "outputs": [],
   "source": [
    "displacy.render(doc, style=\"dep\", jupyter = True, options={'distance':140})"
   ]
  },
  {
   "cell_type": "markdown",
   "id": "3a5fdd58-cccc-4437-9956-083b897e3772",
   "metadata": {},
   "source": [
    "## 4. Convert entity tagging to tables"
   ]
  },
  {
   "cell_type": "markdown",
   "id": "bf8b3963-85e0-4e36-8630-b943af0c87b4",
   "metadata": {},
   "source": [
    "Creating a table out of the parts of speech will make it even easier to do data analysis. We could even compare to other songs! So let's start with using Pandas to convert our parts of speech analysis to a table with the counts of each parts of speech."
   ]
  },
  {
   "cell_type": "code",
   "execution_count": null,
   "id": "8327c16f-7958-425d-a4b4-4b543b0e2883",
   "metadata": {},
   "outputs": [],
   "source": [
    "#!pip install pandas"
   ]
  },
  {
   "cell_type": "code",
   "execution_count": null,
   "id": "32ccd01b-82ad-4a75-9311-221b1863e024",
   "metadata": {},
   "outputs": [],
   "source": [
    "import pandas as pd"
   ]
  },
  {
   "cell_type": "code",
   "execution_count": null,
   "id": "f35f0f14-c598-44a3-ac4d-2d1a2c8f4d43",
   "metadata": {},
   "outputs": [],
   "source": [
    "list_of_strings  = [i.text for i in doc]\n",
    "list_of_tokens = [j.pos_ for j in doc]"
   ]
  },
  {
   "cell_type": "code",
   "execution_count": null,
   "id": "eac81de6-e30d-4600-b7a8-c1d2f38ad986",
   "metadata": {},
   "outputs": [],
   "source": [
    "df = pd.DataFrame({'token': list_of_strings, 'POS': list_of_tokens })\n",
    "#pd.DataFrame({'a':[1,2], 'b':[3,4]})"
   ]
  },
  {
   "cell_type": "code",
   "execution_count": null,
   "id": "8c98ff13-0cf8-421f-81f2-13ca11df2b9b",
   "metadata": {},
   "outputs": [],
   "source": [
    "df['POS'].value_counts()"
   ]
  },
  {
   "cell_type": "markdown",
   "id": "3eb8f732-ae76-4665-a22a-312110e7efaa",
   "metadata": {},
   "source": [
    "I want to see how this song compares to another. First, we need to bring in another song."
   ]
  },
  {
   "cell_type": "code",
   "execution_count": null,
   "id": "c13750c1-6686-4d94-84f0-6099672b50af",
   "metadata": {},
   "outputs": [],
   "source": [
    "from musixmatch import Musixmatch\n",
    "\n",
    "music_key=Constants.MUSIXMATCH_KEY\n",
    "\n",
    "musixmatch = Musixmatch(music_key)\n",
    "\n",
    "lyrics2 = musixmatch.matcher_lyrics_get('[SONG]', '[ARTIST]')\n",
    "lyrics2 = re.sub(r\"\\\\n\", \" \", json.dumps(lyrics2[\"message\"][\"body\"][\"lyrics\"][\"lyrics_body\"]))\n",
    "lyrics2 = re.sub(r\"(.+)(\\.\\.\\..+)\", r\"\\1\", lyrics2)\n",
    "\n",
    "print (lyrics2)"
   ]
  },
  {
   "cell_type": "code",
   "execution_count": null,
   "id": "6ac3cfab-7f7d-4117-addb-989b9c7d63be",
   "metadata": {},
   "outputs": [],
   "source": [
    "doc2 = nlp(lyrics2)\n",
    "print(doc2)\n",
    "print (len(lyrics2))\n",
    "print (len(doc2))"
   ]
  },
  {
   "cell_type": "code",
   "execution_count": null,
   "id": "da72acdb-946b-4af1-a7d6-3ab28c7d4047",
   "metadata": {},
   "outputs": [],
   "source": [
    "list_of_strings2  = [k.text for k in doc2]\n",
    "list_of_tokens2 = [l.pos_ for l in doc2]"
   ]
  },
  {
   "cell_type": "code",
   "execution_count": null,
   "id": "10b0521b-f7f8-4788-ae95-15addeada990",
   "metadata": {},
   "outputs": [],
   "source": [
    "df2 = pd.DataFrame({'token': list_of_strings2, 'POS': list_of_tokens2 })\n",
    "#pd.DataFrame({'a':[1,2], 'b':[3,4]})"
   ]
  },
  {
   "cell_type": "code",
   "execution_count": null,
   "id": "939059d7-bc3c-4314-9957-55fa65e6f32b",
   "metadata": {},
   "outputs": [],
   "source": [
    "df2['POS'].value_counts()"
   ]
  },
  {
   "cell_type": "markdown",
   "id": "a729cc31-b679-488e-8d6b-d690337cc6ae",
   "metadata": {},
   "source": [
    "This information is more accurate for comparison if we look at the percentages rather than the counts, so let's convert count to percent:"
   ]
  },
  {
   "cell_type": "code",
   "execution_count": null,
   "id": "919b0fc3-8fba-43e9-888a-c412efb080a8",
   "metadata": {},
   "outputs": [],
   "source": [
    "table2= df2['POS'].value_counts(normalize=True).rename_axis('unique_values').reset_index(name='Song 2')\n",
    "table2['Song 2'] = table2['Song 2'] * 100\n",
    "print(table2)"
   ]
  },
  {
   "cell_type": "code",
   "execution_count": null,
   "id": "175b3af7-f2c7-4c0b-8b55-5557ddc6838d",
   "metadata": {},
   "outputs": [],
   "source": [
    "table= df['POS'].value_counts(normalize=True).rename_axis('unique_values').reset_index(name='Song 1')\n",
    "table['Song 1'] = table['Song 1'] * 100\n",
    "\n",
    "print(table)"
   ]
  },
  {
   "cell_type": "markdown",
   "id": "d9821bb1-8459-40e8-a189-7483557d6f7f",
   "metadata": {},
   "source": [
    "Time to put our two tables together so the songs can be compared:"
   ]
  },
  {
   "cell_type": "markdown",
   "id": "a9644a08",
   "metadata": {},
   "source": [
    "## Compare songs!"
   ]
  },
  {
   "cell_type": "markdown",
   "id": "b51114cf",
   "metadata": {},
   "source": [
    "Now that the parts of speech are converted to tables, we can compare songs!"
   ]
  },
  {
   "cell_type": "code",
   "execution_count": null,
   "id": "e022d64b-d0fb-44e0-85c5-c5a2b91ca842",
   "metadata": {},
   "outputs": [],
   "source": [
    "right = table\n",
    "left = table2\n",
    "result = pd.merge(left, right, on=['unique_values'])\n",
    "print(result)"
   ]
  },
  {
   "cell_type": "markdown",
   "id": "6e881e07",
   "metadata": {},
   "source": [
    "This kind of comparison would be interesting as a bar chart. This makes it easier to visualize the differences. There is another tool, `matplotlib`, we can import which will make the table above into a graph so the song comparison can be visualized. "
   ]
  },
  {
   "cell_type": "code",
   "execution_count": null,
   "id": "3222f445-afdc-4a9d-9bbc-01bfbf641542",
   "metadata": {},
   "outputs": [],
   "source": [
    "#! pip install matplotlib"
   ]
  },
  {
   "cell_type": "code",
   "execution_count": null,
   "id": "a32d61ff-ae87-44d2-8d6f-6e102ff4b4e2",
   "metadata": {},
   "outputs": [],
   "source": [
    "from matplotlib import pyplot as plt"
   ]
  },
  {
   "cell_type": "code",
   "execution_count": null,
   "id": "91210fc3-b476-44a8-a247-42682a8a18c7",
   "metadata": {},
   "outputs": [],
   "source": [
    "result['unique_values'] *100\n",
    "result.plot.bar(x='unique_values', rot=0, figsize=(20, 10));"
   ]
  },
  {
   "cell_type": "markdown",
   "id": "7be76835",
   "metadata": {},
   "source": [
    "The nice part of Jupyter notebooks is that you can run through an entire text analysis, change your mind, and run things again differently. We might want to try removing spaces or punctuation from this comparision, for example. "
   ]
  },
  {
   "cell_type": "code",
   "execution_count": null,
   "id": "b23e4c2c",
   "metadata": {},
   "outputs": [],
   "source": []
  }
 ],
 "metadata": {
  "kernelspec": {
   "display_name": "Python 3 (ipykernel)",
   "language": "python",
   "name": "python3"
  },
  "language_info": {
   "codemirror_mode": {
    "name": "ipython",
    "version": 3
   },
   "file_extension": ".py",
   "mimetype": "text/x-python",
   "name": "python",
   "nbconvert_exporter": "python",
   "pygments_lexer": "ipython3",
   "version": "3.10.3"
  }
 },
 "nbformat": 4,
 "nbformat_minor": 5
}
