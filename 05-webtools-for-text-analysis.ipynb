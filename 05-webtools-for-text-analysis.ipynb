{
 "cells": [
  {
   "cell_type": "markdown",
   "id": "5d7b05c0",
   "metadata": {},
   "source": [
    "<img align=\"left\" width=\"200\" src=\"Picture1.png\">"
   ]
  },
  {
   "cell_type": "markdown",
   "id": "3d5fdd6e-e583-40c9-ace4-4dc88ab4f872",
   "metadata": {},
   "source": [
    "## Webtools for text analysis"
   ]
  },
  {
   "cell_type": "markdown",
   "id": "6fccf8e2-eb7a-4a2f-b467-71a54de541dd",
   "metadata": {},
   "source": [
    "There are a few tools for doing text analysis available with your Northwestern access: HathiTrust Research Center and Constellate (Trial) from Ithaka. You can log on to these today and start doing text analysis."
   ]
  },
  {
   "cell_type": "markdown",
   "id": "1e882fa9-965b-4e50-912d-f377296d1309",
   "metadata": {
    "tags": []
   },
   "source": [
    "## Constellate"
   ]
  },
  {
   "cell_type": "markdown",
   "id": "9c26a97e-ed10-4f28-9b5d-a4dc85eea50f",
   "metadata": {},
   "source": [
    "<a href=\"https://constellate.org\">Constallate</a> is a website that allows for dataset analysis of documents in JSTOR. The pro of Constellate is that there is no coding skills required. The downside is that you are limited to JSTOR. "
   ]
  },
  {
   "cell_type": "code",
   "execution_count": 2,
   "id": "9d67a0d2-c05c-4873-b391-9feffa5fd30b",
   "metadata": {},
   "outputs": [
    {
     "data": {
      "text/html": [
       "<iframe src=\"https://constellate.org/builder/\" width=\"1500\" height=\"500\"></iframe>\n"
      ],
      "text/plain": [
       "<IPython.core.display.HTML object>"
      ]
     },
     "metadata": {},
     "output_type": "display_data"
    }
   ],
   "source": [
    "%%html\n",
    "<iframe src=\"https://constellate.org/builder/\" width=\"1500\" height=\"500\"></iframe>"
   ]
  },
  {
   "cell_type": "markdown",
   "id": "b6856e01-072a-4b82-9c21-f54a0d0585d3",
   "metadata": {
    "tags": []
   },
   "source": [
    "## HathiTrust Research Center"
   ]
  },
  {
   "cell_type": "markdown",
   "id": "5ef9f167-e52e-496a-8a2a-061a6c3baaa9",
   "metadata": {},
   "source": [
    "<a href=\"https://analytics.hathitrust.org/\">HTRC</a> allows users to do analytical processing of datasets from HathiTrust."
   ]
  },
  {
   "cell_type": "code",
   "execution_count": 1,
   "id": "6ade5ec4-771e-4d15-9216-456cdbb86f4a",
   "metadata": {},
   "outputs": [
    {
     "data": {
      "text/html": [
       "<iframe src=\"https://analytics.hathitrust.org/\" width=\"1500\" height=\"500\"></iframe>\n"
      ],
      "text/plain": [
       "<IPython.core.display.HTML object>"
      ]
     },
     "metadata": {},
     "output_type": "display_data"
    }
   ],
   "source": [
    "%%html\n",
    "<iframe src=\"https://analytics.hathitrust.org/\" width=\"1500\" height=\"500\"></iframe>\n"
   ]
  },
  {
   "cell_type": "code",
   "execution_count": null,
   "id": "b57c0e64-f0f4-4bea-9fa4-03f7e09a93f8",
   "metadata": {},
   "outputs": [],
   "source": []
  }
 ],
 "metadata": {
  "kernelspec": {
   "display_name": "Python 3 (ipykernel)",
   "language": "python",
   "name": "python3"
  },
  "language_info": {
   "codemirror_mode": {
    "name": "ipython",
    "version": 3
   },
   "file_extension": ".py",
   "mimetype": "text/x-python",
   "name": "python",
   "nbconvert_exporter": "python",
   "pygments_lexer": "ipython3",
   "version": "3.10.3"
  }
 },
 "nbformat": 4,
 "nbformat_minor": 5
}
